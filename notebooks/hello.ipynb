{
 "cells": [
  {
   "cell_type": "code",
   "execution_count": 1,
   "id": "a5751b7c-58df-4eb5-8d5d-3c318ab3f0f8",
   "metadata": {},
   "outputs": [
    {
     "name": "stdout",
     "output_type": "stream",
     "text": [
      "Error fetching sample data: 403 Client Error: Forbidden for url: https://api.tokenmetrics.com/v2/tokens?symbol=BTC%2CETH&limit=1000&page=0\n",
      "Note: You need a valid API key to run this example.\n"
     ]
    }
   ],
   "source": []
  },
  {
   "cell_type": "markdown",
   "id": "f9daba2b",
   "metadata": {},
   "source": [
    "## Notebook to play with API"
   ]
  },
  {
   "cell_type": "code",
   "execution_count": 2,
   "id": "080756b2",
   "metadata": {},
   "outputs": [
    {
     "data": {
      "text/plain": [
       "True"
      ]
     },
     "execution_count": 2,
     "metadata": {},
     "output_type": "execute_result"
    }
   ],
   "source": [
    "from dotenv import load_dotenv\n",
    "import os\n",
    "load_dotenv(override=True)"
   ]
  },
  {
   "cell_type": "code",
   "execution_count": 3,
   "id": "b4c010e8",
   "metadata": {},
   "outputs": [
    {
     "name": "stdout",
     "output_type": "stream",
     "text": [
      "\n",
      "==================== Tokens Endpoint ====================\n",
      "Shape: (18, 8) (rows, columns)\n",
      "\n",
      "Column Names:\n",
      "  - TOKEN_ID\n",
      "  - TOKEN_NAME\n",
      "  - TOKEN_SYMBOL\n",
      "  - EXCHANGE_LIST\n",
      "  - CATEGORY_LIST\n",
      "  - tm_link\n",
      "  - contract_address\n",
      "  - TM_LINK\n",
      "\n",
      "Example Row:\n",
      "{\n",
      "  \"TOKEN_ID\": 40413,\n",
      "  \"TOKEN_NAME\": \"The Ticker Is ETH\",\n",
      "  \"TOKEN_SYMBOL\": \"ETH\",\n",
      "  \"EXCHANGE_LIST\": [\n",
      "    {\n",
      "      \"exchange_id\": \"raydium2\",\n",
      "      \"exchange_name\": \"Raydium\"\n",
      "    }\n",
      "  ],\n",
      "  \"CATEGORY_LIST\": [\n",
      "    {\n",
      "      \"category_id\": 25,\n",
      "      \"category_name\": \"Solana Ecosystem\",\n",
      "      \"category_slug\": \"solana-ecosystem\"\n",
      "    },\n",
      "    {\n",
      "      \"category_id\": 54,\n",
      "      \"category_name\": \"Meme\",\n",
      "      \"category_slug\": \"meme-token\"\n",
      "    },\n",
      "    {\n",
      "      \"category_id\": 296,\n",
      "      \"category_name\": \"Solana Meme\",\n",
      "      \"category_slug\": \"solana-meme-coins\"\n",
      "    },\n",
      "    {\n",
      "      \"category_id\": 297,\n",
      "      \"category_name\": \"AI Meme\",\n",
      "      \"category_slug\": \"ai-meme-coins\"\n",
      "    },\n",
      "    {\n",
      "      \"category_id\": 489,\n",
      "      \"category_name\": \"Pump.fun Ecosystem\",\n",
      "      \"category_slug\": \"pump-fun\"\n",
      "    }\n",
      "  ],\n",
      "  \"tm_link\": \"the-ticker-is-eth\",\n",
      "  \"contract_address\": {\n",
      "    \"solana\": \"2kaRSuDcz1V1kqq1sDmP23Wy98jutHQQgr5fGDWRpump\"\n",
      "  },\n",
      "  \"TM_LINK\": \"https://app.tokenmetrics.com/undefined\"\n",
      "}\n"
     ]
    },
    {
     "name": "stderr",
     "output_type": "stream",
     "text": [
      "Fetching daily-ohlcv data: 100%|██████████| 2/2 [00:03<00:00,  1.59s/chunk]\n"
     ]
    },
    {
     "name": "stdout",
     "output_type": "stream",
     "text": [
      "\n",
      "==================== Daily OHLCV Endpoint ====================\n",
      "Shape: (88, 9) (rows, columns)\n",
      "\n",
      "Column Names:\n",
      "  - TOKEN_ID\n",
      "  - TOKEN_NAME\n",
      "  - TOKEN_SYMBOL\n",
      "  - DATE\n",
      "  - OPEN\n",
      "  - HIGH\n",
      "  - LOW\n",
      "  - CLOSE\n",
      "  - VOLUME\n",
      "\n",
      "Example Row:\n",
      "{\n",
      "  \"TOKEN_ID\": 39218,\n",
      "  \"TOKEN_NAME\": \"Osmosis allBTC\",\n",
      "  \"TOKEN_SYMBOL\": \"BTC\",\n",
      "  \"DATE\": \"2025-04-02T00:00:00.000Z\",\n",
      "  \"OPEN\": 85099.0,\n",
      "  \"HIGH\": 85277.0,\n",
      "  \"LOW\": 85038.0,\n",
      "  \"CLOSE\": 85038.0,\n",
      "  \"VOLUME\": 3720608.40905758\n",
      "}\n"
     ]
    },
    {
     "name": "stderr",
     "output_type": "stream",
     "text": [
      "Fetching trader-grades data: 100%|██████████| 2/2 [00:24<00:00, 12.42s/chunk]"
     ]
    },
    {
     "name": "stdout",
     "output_type": "stream",
     "text": [
      "\n",
      "==================== Trader Grades Endpoint ====================\n",
      "Shape: (78, 8) (rows, columns)\n",
      "\n",
      "Column Names:\n",
      "  - TOKEN_ID\n",
      "  - TOKEN_NAME\n",
      "  - TOKEN_SYMBOL\n",
      "  - DATE\n",
      "  - TA_GRADE\n",
      "  - QUANT_GRADE\n",
      "  - TM_TRADER_GRADE\n",
      "  - TM_TRADER_GRADE_24H_PCT_CHANGE\n",
      "\n",
      "Example Row:\n",
      "{\n",
      "  \"TOKEN_ID\": 3375,\n",
      "  \"TOKEN_NAME\": \"Bitcoin\",\n",
      "  \"TOKEN_SYMBOL\": \"BTC\",\n",
      "  \"DATE\": \"2025-04-02T00:00:00.000Z\",\n",
      "  \"TA_GRADE\": 53.57,\n",
      "  \"QUANT_GRADE\": 60.89,\n",
      "  \"TM_TRADER_GRADE\": 55.04,\n",
      "  \"TM_TRADER_GRADE_24H_PCT_CHANGE\": 30.52\n",
      "}\n"
     ]
    },
    {
     "name": "stderr",
     "output_type": "stream",
     "text": [
      "\n"
     ]
    }
   ],
   "source": [
    "from tmai_api import TokenMetricsClient\n",
    "import pandas as pd\n",
    "import json\n",
    "from datetime import datetime, timedelta\n",
    "\n",
    "# Initialize with your API key (will be replaced with YOUR-API-KEY in the final notebook)\n",
    "client = TokenMetricsClient(api_key=os.environ[\"API_KEY\"])\n",
    "\n",
    "# Helper function to explore DataFrame structures\n",
    "def explore_dataframe(df, title):\n",
    "    \"\"\"Print useful information about a DataFrame structure\"\"\"\n",
    "    print(f\"\\n{'='*20} {title} {'='*20}\")\n",
    "    if df.empty:\n",
    "        print(\"No data available\")\n",
    "        return\n",
    "        \n",
    "    print(f\"Shape: {df.shape} (rows, columns)\")\n",
    "    print(\"\\nColumn Names:\")\n",
    "    for col in df.columns:\n",
    "        print(f\"  - {col}\")\n",
    "    \n",
    "    print(\"\\nExample Row:\")\n",
    "    example = df.iloc[0].to_dict()\n",
    "    print(json.dumps(example, indent=2, default=str))\n",
    "\n",
    "# Get sample data from different endpoints\n",
    "try:\n",
    "    # 1. Token Information (basic token data)\n",
    "    tokens_df = client.tokens.get_dataframe(symbol=\"BTC,ETH\")\n",
    "    explore_dataframe(tokens_df, \"Tokens Endpoint\")\n",
    "    \n",
    "    # 2. Daily OHLCV (price data)\n",
    "    end_date = datetime.now().strftime(\"%Y-%m-%d\")\n",
    "    start_date = (datetime.now() - timedelta(days=30)).strftime(\"%Y-%m-%d\")\n",
    "    daily_df = client.daily_ohlcv.get_dataframe(symbol=\"BTC\", startDate=start_date, endDate=end_date)\n",
    "    explore_dataframe(daily_df, \"Daily OHLCV Endpoint\")\n",
    "    \n",
    "    # 3. Trader Grades (trading metrics)\n",
    "    grades_df = client.trader_grades.get_dataframe(symbol=\"BTC\", startDate=start_date, endDate=end_date)\n",
    "    explore_dataframe(grades_df, \"Trader Grades Endpoint\")\n",
    "    \n",
    "except Exception as e:\n",
    "    print(f\"Error fetching sample data: {e}\")\n",
    "    print(\"Note: You need a valid API key to run this example.\")"
   ]
  },
  {
   "cell_type": "code",
   "execution_count": 1,
   "id": "251fe32f",
   "metadata": {},
   "outputs": [
    {
     "ename": "NameError",
     "evalue": "name 'tokens_df' is not defined",
     "output_type": "error",
     "traceback": [
      "\u001b[31m---------------------------------------------------------------------------\u001b[39m",
      "\u001b[31mNameError\u001b[39m                                 Traceback (most recent call last)",
      "\u001b[36mCell\u001b[39m\u001b[36m \u001b[39m\u001b[32mIn[1]\u001b[39m\u001b[32m, line 1\u001b[39m\n\u001b[32m----> \u001b[39m\u001b[32m1\u001b[39m \u001b[43mtokens_df\u001b[49m.head()\n",
      "\u001b[31mNameError\u001b[39m: name 'tokens_df' is not defined"
     ]
    }
   ],
   "source": [
    "tokens_df.head()"
   ]
  },
  {
   "cell_type": "markdown",
   "id": "5082faa7",
   "metadata": {},
   "source": []
  }
 ],
 "metadata": {
  "kernelspec": {
   "display_name": "Python 3 (ipykernel)",
   "language": "python",
   "name": "python3"
  },
  "language_info": {
   "codemirror_mode": {
    "name": "ipython",
    "version": 3
   },
   "file_extension": ".py",
   "mimetype": "text/x-python",
   "name": "python",
   "nbconvert_exporter": "python",
   "pygments_lexer": "ipython3",
   "version": "3.12.3"
  }
 },
 "nbformat": 4,
 "nbformat_minor": 5
}
